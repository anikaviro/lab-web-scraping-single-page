{
 "cells": [
  {
   "cell_type": "markdown",
   "id": "458e8c05",
   "metadata": {},
   "source": [
    "You have find data on the internet about currently popular songs. Billboard maintains a weekly Top 100 of \"hot\" songs here: [https://www.billboard.com/charts/hot-100](https://www.billboard.com/charts/hot-100).\n",
    "\n",
    "It's a good place to start! \n",
    "\n",
    "**The goal of this lab is to create a function: scrape_hot100()** to scrape the current top 100 songs present at [https://www.billboard.com/charts/hot-100](https://www.billboard.com/charts/hot-100) and their respective artists, put the information into a pandas dataframe, and save the dataframe in a csv file in the current folder. "
   ]
  },
  {
   "cell_type": "code",
   "execution_count": 1,
   "id": "a6fb0090",
   "metadata": {},
   "outputs": [],
   "source": [
    "# import libraries\n",
    "from bs4 import BeautifulSoup\n",
    "import requests\n",
    "import pandas as pd\n"
   ]
  },
  {
   "cell_type": "code",
   "execution_count": 24,
   "id": "849fbc3e",
   "metadata": {},
   "outputs": [],
   "source": [
    "#url = \"https://www.billboard.com/charts/hot-100\"\n",
    "#response = requests.get(url)\n",
    "#response.status_code\n",
    "#soup = BeautifulSoup(response.content, \"html.parser\")"
   ]
  },
  {
   "cell_type": "code",
   "execution_count": 25,
   "id": "05c17b61",
   "metadata": {},
   "outputs": [],
   "source": [
    "#print(soup.prettify())"
   ]
  },
  {
   "cell_type": "code",
   "execution_count": 26,
   "id": "861a58c4",
   "metadata": {},
   "outputs": [],
   "source": [
    "# artist name and song name"
   ]
  },
  {
   "cell_type": "code",
   "execution_count": 27,
   "id": "bae5e678",
   "metadata": {},
   "outputs": [],
   "source": [
    "#we want to have both things in a single for loop\n",
    "#for elem in soup.select(\"li.lrv-u-width-100p\"):\n",
    " #   print(elem.select(\"h3\"))\n",
    " #   print(elem.select(\"span\"))\n",
    "    #print(elem.get_text().replace('\\n', \"\").replace(\"\\t\",\"\"))\n",
    "    "
   ]
  },
  {
   "cell_type": "code",
   "execution_count": 22,
   "id": "d3204f51",
   "metadata": {},
   "outputs": [],
   "source": [
    "def scrape_hot100(url):\n",
    "    response = requests.get(url)\n",
    "    print(response.status_code) # 200 status code means OK!\n",
    "    soup = BeautifulSoup(response.content, \"html.parser\")\n",
    "\n",
    "    hot_songs = pd.DataFrame()\n",
    "\n",
    "    # define empty lists\n",
    "    artists = []\n",
    "    titles = []\n",
    "\n",
    "    for elem in soup.select(\" li.lrv-u-width-100p\"):\n",
    "        for index, e in enumerate(elem.select(\"h3\")):\n",
    "            if (index % 2 ==0):\n",
    "                titles.append(e.get_text().replace(\"\\n\",\"\").replace(\"\\t\",\"\"))\n",
    "                artists.append(e.parent.select(\"span\")[0].get_text().replace(\"\\n\",\"\").replace(\"\\t\",\"\"))\n",
    "    hot_songs = pd.DataFrame({\"titles\":titles, \"artists\":artists})\n",
    "    hot_songs.to_csv('hot_songs.csv', index=False)"
   ]
  },
  {
   "cell_type": "code",
   "execution_count": 23,
   "id": "cff1b499",
   "metadata": {},
   "outputs": [
    {
     "name": "stdout",
     "output_type": "stream",
     "text": [
      "200\n"
     ]
    }
   ],
   "source": [
    "url1 = \"https://www.billboard.com/charts/hot-100\"\n",
    "hot_songs = scrape_hot100(url1)"
   ]
  }
 ],
 "metadata": {
  "kernelspec": {
   "display_name": "Python 3 (ipykernel)",
   "language": "python",
   "name": "python3"
  },
  "language_info": {
   "codemirror_mode": {
    "name": "ipython",
    "version": 3
   },
   "file_extension": ".py",
   "mimetype": "text/x-python",
   "name": "python",
   "nbconvert_exporter": "python",
   "pygments_lexer": "ipython3",
   "version": "3.9.13"
  }
 },
 "nbformat": 4,
 "nbformat_minor": 5
}
